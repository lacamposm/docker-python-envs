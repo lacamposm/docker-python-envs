{
 "cells": [
  {
   "cell_type": "markdown",
   "metadata": {},
   "source": [
    "### ***Test Notebook in VS-Code DevContainer***"
   ]
  },
  {
   "cell_type": "code",
   "execution_count": 1,
   "metadata": {},
   "outputs": [
    {
     "name": "stdout",
     "output_type": "stream",
     "text": [
      "# conda environments:\n",
      "#\n",
      "base                     /opt/conda\n",
      "pyspark-project-dev   *  /opt/conda/envs/pyspark-project-dev\n",
      "\n"
     ]
    }
   ],
   "source": [
    "!conda env list"
   ]
  },
  {
   "cell_type": "code",
   "execution_count": 2,
   "metadata": {},
   "outputs": [
    {
     "name": "stdout",
     "output_type": "stream",
     "text": [
      "Pyspark version: 3.5.5\n",
      "Pandas version: 2.2.3\n",
      "Debugpy version: 1.8.14\n",
      "Streamlit version: 1.45.0\n"
     ]
    }
   ],
   "source": [
    "try:\n",
    "    import pandas as pd\n",
    "    import debugpy\n",
    "    import streamlit as st\n",
    "    import pyspark\n",
    "    print(\"Pyspark version:\", pyspark.__version__)\n",
    "    print(\"Pandas version:\", pd.__version__)\n",
    "    print(\"Debugpy version:\", debugpy.__version__)\n",
    "    print(\"Streamlit version:\", st.__version__)\n",
    "except Exception as e:\n",
    "    print(\"An unexpected error occurred:\", e)\n",
    "    print(\"Please check your conda environment and package installations.\")\n",
    "    raise"
   ]
  }
 ],
 "metadata": {
  "kernelspec": {
   "display_name": "pyspark-project-dev",
   "language": "python",
   "name": "python3"
  },
  "language_info": {
   "codemirror_mode": {
    "name": "ipython",
    "version": 3
   },
   "file_extension": ".py",
   "mimetype": "text/x-python",
   "name": "python",
   "nbconvert_exporter": "python",
   "pygments_lexer": "ipython3",
   "version": "3.12.10"
  }
 },
 "nbformat": 4,
 "nbformat_minor": 2
}
